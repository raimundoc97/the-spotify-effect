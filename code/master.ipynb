{
 "cells": [
  {
   "cell_type": "markdown",
   "metadata": {},
   "source": [
    "# The Spotify Effect\n",
    "#### Acevedo, Contreras & Razmilic. 2025 ."
   ]
  },
  {
   "cell_type": "markdown",
   "metadata": {},
   "source": [
    "### Hypothesis: Technological progress has affected the way musicians make music. This is mainly because technological barriers have been reduced, opening the ability to make music to more people with lower ability (positive selection). \n",
    "### This includes people from broader backgrounds."
   ]
  },
  {
   "cell_type": "markdown",
   "metadata": {},
   "source": [
    "# Data"
   ]
  },
  {
   "cell_type": "markdown",
   "metadata": {},
   "source": [
    "## Spotify\n"
   ]
  },
  {
   "cell_type": "markdown",
   "metadata": {},
   "source": [
    "We will need to use two data sources: Spotify and Patent Data. We will proceed in describing how to use each.\n",
    "\n",
    "\n",
    " [API link](https://developer.spotify.com/documentation/web-api)\n",
    "\n",
    " It might be better to use the Spotipy library for [Python](https://spotipy.readthedocs.io/en/2.25.0/)! \n",
    "\n",
    " Client ID: af3ac5362ce54d2ca7a38e95425c36e9\n",
    "\n",
    " Client secret: 3228b6613e294d158bced3660a6385a5\n",
    "\n",
    " Example of use:"
   ]
  },
  {
   "cell_type": "code",
   "execution_count": 9,
   "metadata": {},
   "outputs": [
    {
     "name": "stdout",
     "output_type": "stream",
     "text": [
      "Current Working Directory: C:\\Users\\raimu\\OneDrive\\Documentos\\GitHub\\the-spotify-effect\\api\n",
      "THE TORTURED POETS DEPARTMENT: THE ANTHOLOGY\n",
      "THE TORTURED POETS DEPARTMENT\n",
      "1989 (Taylor's Version) [Deluxe]\n",
      "1989 (Taylor's Version)\n",
      "Speak Now (Taylor's Version)\n",
      "Midnights (The Til Dawn Edition)\n",
      "Midnights (3am Edition)\n",
      "Midnights\n",
      "Red (Taylor's Version)\n",
      "Fearless (Taylor's Version)\n",
      "evermore (deluxe version)\n",
      "evermore\n",
      "folklore: the long pond studio sessions (from the Disney+ special) [deluxe edition]\n",
      "folklore (deluxe version)\n",
      "folklore\n",
      "Lover\n",
      "Taylor Swift Karaoke: reputation\n",
      "reputation\n",
      "reputation Stadium Tour Surprise Song Playlist\n",
      "1989 (Deluxe)\n",
      "1989\n",
      "Red (Deluxe Edition)\n",
      "Red\n",
      "Speak Now World Tour Live\n",
      "Speak Now\n",
      "Speak Now (Deluxe Package)\n",
      "Fearless (Platinum Edition)\n",
      "Fearless (International Version)\n",
      "Live From Clear Channel Stripped 2008\n",
      "Taylor Swift (Deluxe Edition)\n"
     ]
    }
   ],
   "source": [
    "import os\n",
    "\n",
    "# Change to your desired directory\n",
    "new_directory = r\"C:\\Users\\raimu\\OneDrive\\Documentos\\GitHub\\the-spotify-effect\\api\"\n",
    "os.chdir(new_directory)\n",
    "\n",
    "# Verify the change\n",
    "print(\"Current Working Directory:\", os.getcwd())\n",
    "\n",
    "taylor_uri = 'spotify:artist:06HL4z0CvFAxyc27GXpf02'\n",
    "results = sp.artist_albums(taylor_uri, album_type='album')\n",
    "albums = results['items']\n",
    "while results['next']:\n",
    "    results = sp.next(results)\n",
    "    albums.extend(results['items'])\n",
    "\n",
    "for album in albums:\n",
    "    print(album['name'])"
   ]
  },
  {
   "cell_type": "markdown",
   "metadata": {},
   "source": [
    "But so far, this will be difficult, so we will focus on using a dataset from Kaggle. [Consisting in over 600.000 songs from 1921 to 2020.](https://www.kaggle.com/datasets/yamaerenay/spotify-dataset-19212020-600k-tracks).\n",
    "\n",
    "### Song characteristics:\n",
    "\n",
    "It is important to see how music characteristics have evolved through time due to technological progress. Because of this, we make use of Spotify-provided measures. These are the following:\n",
    "\n",
    "- Acousticness:\n",
    "\n",
    "A confidence measure from 0.0 to 1.0 of whether the track is acoustic. 1.0 represents high confidence the track is acoustic.\n",
    "\n",
    "Range: 0 - 1\n",
    "Example: 0.00242\n",
    "\n",
    "- Danceability\n",
    "\n",
    "number [float]\n",
    "\n",
    "Danceability describes how suitable a track is for dancing based on a combination of musical elements including tempo, rhythm stability, beat strength, and overall regularity. A value of 0.0 is least danceable and 1.0 is most danceable.\n",
    "\n",
    "Example: 0.585\n",
    "\n",
    "- duration_ms\n",
    "integer\n",
    "The duration of the track in milliseconds.\n",
    "\n",
    "Example: 237040\n",
    "\n",
    "- energy\n",
    "number [float]\n",
    "Energy is a measure from 0.0 to 1.0 and represents a perceptual measure of intensity and activity. Typically, energetic tracks feel fast, loud, and noisy. For example, death metal has high energy, while a Bach prelude scores low on the scale. Perceptual features contributing to this attribute include dynamic range, perceived loudness, timbre, onset rate, and general entropy.\n",
    "\n",
    "Example: 0.842\n",
    "\n",
    "- id\n",
    "string\n",
    "The Spotify ID for the track.\n",
    "\n",
    "Example: \"2takcwOaAZWiXQijPHIx7B\"\n",
    "\n",
    "- instrumentalness\n",
    "\n",
    "number [float]\n",
    "\n",
    "Predicts whether a track contains no vocals. \"Ooh\" and \"aah\" sounds are treated as instrumental in this context. Rap or spoken word tracks are clearly \"vocal\". The closer the instrumentalness value is to 1.0, the greater likelihood the track contains no vocal content. Values above 0.5 are intended to represent instrumental tracks, but confidence is higher as the value approaches 1.0.\n",
    "\n",
    "Example: 0.00686\n",
    "\n",
    "- key\n",
    "\n",
    "integer\n",
    "\n",
    "The key the track is in. Integers map to pitches using standard Pitch Class notation. E.g. 0 = C, 1 = C♯/D♭, 2 = D, and so on. If no key was detected, the value is -1.\n",
    "\n",
    "Range: -1 - 11\n",
    "Example: 9\n",
    "\n",
    "- liveness\n",
    "\n",
    "number [float]\n",
    "\n",
    "Detects the presence of an audience in the recording. Higher liveness values represent an increased probability that the track was performed live. A value above 0.8 provides strong likelihood that the track is live.\n",
    "\n",
    "Example: 0.0866\n",
    "\n",
    "- loudness\n",
    "\n",
    "number [float]\n",
    "\n",
    "The overall loudness of a track in decibels (dB). Loudness values are averaged across the entire track and are useful for comparing relative loudness of tracks. Loudness is the quality of a sound that is the primary psychological correlate of physical strength (amplitude). Values typically range between -60 and 0 db.\n",
    "\n",
    "Example: -5.883b\n",
    "\n",
    "- mode\n",
    "\n",
    "integer\n",
    "\n",
    "Mode indicates the modality (major or minor) of a track, the type of scale from which its melodic content is derived. Major is represented by 1 and minor is 0.\n",
    "\n",
    "Example: 0\n",
    "\n",
    " - speechiness\n",
    "\n",
    "number [float]\n",
    "\n",
    "Speechiness detects the presence of spoken words in a track. The more exclusively speech-like the recording (e.g. talk show, audio book, poetry), the closer to 1.0 the attribute value. Values above 0.66 describe tracks that are probably made entirely of spoken words. Values between 0.33 and 0.66 describe tracks that may contain both music and speech, either in sections or layered, including such cases as rap music. Values below 0.33 most likely represent music and other non-speech-like tracks.\n",
    "\n",
    "Example: 0.0556\n",
    "\n",
    " - tempo\n",
    "\n",
    "number [float]\n",
    "\n",
    "The overall estimated tempo of a track in beats per minute (BPM). In musical terminology, tempo is the speed or pace of a given piece and derives directly from the average beat duration.\n",
    "\n",
    "Example: 118.211\n",
    "\n",
    " - time_signature\n",
    "\n",
    "integer\n",
    "\n",
    "An estimated time signature. The time signature (meter) is a notational convention to specify how many beats are in each bar (or measure). The time signature ranges from 3 to 7 indicating time signatures of \"3/4\", to \"7/4\".\n",
    "\n",
    "Range: 3 - 7\n",
    "Example: 4\n",
    "\n",
    "\n",
    " - track_href\n",
    "\n",
    "string\n",
    "\n",
    "A link to the Web API endpoint providing full details of the track.\n",
    "\n",
    "Example: \"https://api.spotify.com/v1/tracks/2takcwOaAZWiXQijPHIx7B\"\n",
    "\n",
    "- type\n",
    "\n",
    "string\n",
    "\n",
    "The object type.\n",
    "\n",
    "Allowed values: \"audio_features\"\n",
    "uri\n",
    "string\n",
    "The Spotify URI for the track.\n",
    "\n",
    "Example: \"spotify:track:2takcwOaAZWiXQijPHIx7B\"\n",
    "\n",
    "- valence\n",
    "\n",
    "number [float]\n",
    "\n",
    "A measure from 0.0 to 1.0 describing the musical positiveness conveyed by a track. Tracks with high valence sound more positive (e.g. happy, cheerful, euphoric), while tracks with low valence sound more negative (e.g. sad, depressed, angry)."
   ]
  },
  {
   "cell_type": "markdown",
   "metadata": {},
   "source": [
    "### Motivational fact: Music has evolved greatly in the last 50 years in most of these characteristics\n",
    "\n",
    "![alt text](image.png)"
   ]
  },
  {
   "cell_type": "markdown",
   "metadata": {},
   "source": []
  },
  {
   "cell_type": "markdown",
   "metadata": {},
   "source": [
    "## Patent data"
   ]
  },
  {
   "cell_type": "markdown",
   "metadata": {},
   "source": [
    "In order to measure how technological progress has affected the way music has changed, we want to use patent data. "
   ]
  }
 ],
 "metadata": {
  "kernelspec": {
   "display_name": "tse",
   "language": "python",
   "name": "python3"
  },
  "language_info": {
   "codemirror_mode": {
    "name": "ipython",
    "version": 3
   },
   "file_extension": ".py",
   "mimetype": "text/x-python",
   "name": "python",
   "nbconvert_exporter": "python",
   "pygments_lexer": "ipython3",
   "version": "3.13.1"
  }
 },
 "nbformat": 4,
 "nbformat_minor": 2
}
